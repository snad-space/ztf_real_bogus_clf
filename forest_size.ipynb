{
 "cells": [
  {
   "cell_type": "code",
   "execution_count": 1,
   "id": "280526d3-08a8-43d9-88a2-75b09a0fa345",
   "metadata": {},
   "outputs": [],
   "source": [
    "from coniferest.isoforest import IsolationForest\n",
    "from coniferest.aadforest import AADForest\n",
    "import numpy as np\n",
    "import pandas as pd\n",
    "import matplotlib.pyplot as plt\n",
    "import time\n",
    "\n",
    "\n",
    "def load_single(oid_filename, feature_filename):\n",
    "    oid     = np.memmap(oid_filename, mode='c', dtype=np.uint64)\n",
    "    feature = np.memmap(feature_filename, mode='c', dtype=np.float32).reshape(oid.shape[0], -1)\n",
    "    return oid, feature"
   ]
  },
  {
   "cell_type": "markdown",
   "id": "505c3f0d-10e3-4f4f-b08a-f2d77998ea6f",
   "metadata": {},
   "source": [
    "# Plot config"
   ]
  },
  {
   "cell_type": "code",
   "execution_count": 2,
   "id": "1417bac3-046d-4027-b6fb-b542ca609a88",
   "metadata": {},
   "outputs": [],
   "source": [
    "plt.rcParams[\"font.family\"] = \"DejaVu Serif\"\n",
    "plt.rcParams[\"mathtext.fontset\"] = 'dejavuserif'\n",
    "plt.rcParams[\"font.size\"] = 22\n",
    "plt.rcParams['axes.linewidth'] = 1.2\n",
    "plt.rcParams['lines.linewidth'] = 2.2\n",
    "\n",
    "xtick_param = {'direction': 'in',\n",
    "         'major.size': 8,\n",
    "         'major.width': 2,\n",
    "         'minor.size': 5,\n",
    "         'minor.width': 1.5}\n",
    "ytick_param = {'direction': 'in',\n",
    "         'major.size': 8,\n",
    "         'major.width': 2,\n",
    "         'minor.size': 5,\n",
    "         'minor.width': 1.5}\n",
    "plt.rc('xtick', **xtick_param)\n",
    "plt.rc('ytick', **ytick_param)\n",
    "\n",
    "grid_param = {'linestyle': '--', 'alpha': 0.5}\n",
    "plt.rc('grid', **grid_param)"
   ]
  },
  {
   "cell_type": "code",
   "execution_count": 3,
   "id": "fca33e1e-8f13-4933-a444-630aef66c960",
   "metadata": {},
   "outputs": [],
   "source": [
    "oids, features_art = load_single('snad4_features/sid_snad4_r_100.dat', 'expanded_features/exp_feature_snad4_r_100.dat')"
   ]
  },
  {
   "cell_type": "code",
   "execution_count": 4,
   "id": "087b313b-76e8-4aec-8a37-aa77abfcbd6f",
   "metadata": {},
   "outputs": [],
   "source": [
    "\n",
    "def build_if(n_estimators, n_subsamples, data, return_n_out=10, log=False):\n",
    "    t = time.monotonic()\n",
    "    iforest = IsolationForest(n_jobs=40, n_trees=n_estimators, n_subsamples=n_subsamples).fit(data)\n",
    "    t = (time.monotonic() - t) / 60\n",
    "    if log:\n",
    "        print(f'Forest is fitted in {t:.0f} m')\n",
    "    \n",
    "    t = time.monotonic()\n",
    "    scores = iforest.score_samples(data)\n",
    "    t = (time.monotonic() - t) / 60\n",
    "    if log:\n",
    "        print(f'Scores are computed in {t:.0f} m')\n",
    "\n",
    "    t = time.monotonic()\n",
    "    ind_sorted = np.argsort(scores)\n",
    "    t = (time.monotonic() - t) / 60\n",
    "    if log:\n",
    "        print(f'Scores are sorted in {t:.0f} m')\n",
    "    if_out = oids[ind_sorted[:return_n_out]]\n",
    "    \n",
    "    return if_out, ind_sorted"
   ]
  },
  {
   "cell_type": "code",
   "execution_count": null,
   "id": "2f849a77-3525-4847-ac31-bcdc3f1bc4bf",
   "metadata": {},
   "outputs": [
    {
     "name": "stdout",
     "output_type": "stream",
     "text": [
      "Forest is fitted in 13 m\n"
     ]
    }
   ],
   "source": [
    "n_estimators = 10000\n",
    "n_subsamples = 256*2**5\n",
    "\n",
    "outs = []\n",
    "for i in range(10):\n",
    "    if i == 0:\n",
    "        if_10out, if_all_ind = build_if(n_estimators, n_subsamples, features_art[:, :-1], log=True)\n",
    "    else:\n",
    "        if_10out, if_all_ind = build_if(n_estimators, n_subsamples, features_art[:, :-1])\n",
    "    outs.append(if_10out)"
   ]
  },
  {
   "cell_type": "code",
   "execution_count": 6,
   "id": "5dc1689e-5648-41a2-9463-039e5ea9eeba",
   "metadata": {},
   "outputs": [
    {
     "data": {
      "text/plain": [
       "8"
      ]
     },
     "execution_count": 6,
     "metadata": {},
     "output_type": "execute_result"
    }
   ],
   "source": [
    "total = set(outs[0])\n",
    "for i in range(1,10):\n",
    "    total = total.intersection(set(outs[i]))\n",
    "len(total)"
   ]
  },
  {
   "cell_type": "code",
   "execution_count": 21,
   "id": "d88bb9c4-0ccb-4f98-9bb4-aab55fdaa98e",
   "metadata": {},
   "outputs": [
    {
     "data": {
      "text/plain": [
       "array([False, False, False, False, False, False, False, False, False,\n",
       "        True])"
      ]
     },
     "execution_count": 21,
     "metadata": {},
     "output_type": "execute_result"
    }
   ],
   "source": [
    "outs[0] == outs[9]"
   ]
  },
  {
   "cell_type": "code",
   "execution_count": 11,
   "id": "7c945f94-6640-42b7-a904-99784f5c0057",
   "metadata": {},
   "outputs": [
    {
     "data": {
      "text/plain": [
       "81920000"
      ]
     },
     "execution_count": 11,
     "metadata": {},
     "output_type": "execute_result"
    }
   ],
   "source": [
    "2**13*10000"
   ]
  },
  {
   "cell_type": "code",
   "execution_count": 7,
   "id": "a5f43b6b-b441-4805-8672-376c33743711",
   "metadata": {},
   "outputs": [
    {
     "data": {
      "text/plain": [
       "12.71789058398728"
      ]
     },
     "execution_count": 7,
     "metadata": {},
     "output_type": "execute_result"
    }
   ],
   "source": [
    "np.log2(len(oids) // 10000)"
   ]
  },
  {
   "cell_type": "code",
   "execution_count": 8,
   "id": "52011b4f-a0bf-4202-a53a-4863d4ad12cb",
   "metadata": {},
   "outputs": [
    {
     "data": {
      "text/plain": [
       "8192"
      ]
     },
     "execution_count": 8,
     "metadata": {},
     "output_type": "execute_result"
    }
   ],
   "source": [
    "2**13"
   ]
  },
  {
   "cell_type": "code",
   "execution_count": 15,
   "id": "3c89f366-b4ed-4667-be90-b5c77fc4dabc",
   "metadata": {},
   "outputs": [
    {
     "data": {
      "text/plain": [
       "81920000"
      ]
     },
     "execution_count": 15,
     "metadata": {},
     "output_type": "execute_result"
    }
   ],
   "source": [
    "256*2**5*10000"
   ]
  },
  {
   "cell_type": "code",
   "execution_count": null,
   "id": "195670fe-316b-45fb-87fa-fb399aa733c7",
   "metadata": {},
   "outputs": [],
   "source": []
  }
 ],
 "metadata": {
  "kernelspec": {
   "display_name": "coniferest",
   "language": "python",
   "name": "coniferest"
  },
  "language_info": {
   "codemirror_mode": {
    "name": "ipython",
    "version": 3
   },
   "file_extension": ".py",
   "mimetype": "text/x-python",
   "name": "python",
   "nbconvert_exporter": "python",
   "pygments_lexer": "ipython3",
   "version": "3.8.0"
  }
 },
 "nbformat": 4,
 "nbformat_minor": 5
}
