{
 "cells": [
  {
   "cell_type": "code",
   "execution_count": 7,
   "id": "fb6157c2-886d-471a-902e-55740f9cbee1",
   "metadata": {},
   "outputs": [],
   "source": [
    "import os\n",
    "import numpy as np\n",
    "import json\n",
    "import requests\n",
    "from tqdm import tqdm\n"
   ]
  },
  {
   "cell_type": "markdown",
   "id": "7641e2db-0d78-4a5a-8507-4053a7729f38",
   "metadata": {},
   "source": [
    "## Download akb .json file"
   ]
  },
  {
   "cell_type": "code",
   "execution_count": 2,
   "id": "96740153-7f37-4078-9a09-720678e04ba2",
   "metadata": {},
   "outputs": [],
   "source": [
    "url = f'https://akb.ztf.snad.space/objects/'\n",
    "with requests.get(url) as response:\n",
    "    response.raise_for_status()\n",
    "    open(f'akb.ztf.snad.space.json', 'wb').write(response.content)\n",
    "\n",
    "def get_oids(filepath):\n",
    "    file = open(filepath)\n",
    "    obj_list = json.load(file)\n",
    "    file.close()\n",
    "\n",
    "    oids = []\n",
    "    tags = []\n",
    "    for data in obj_list:\n",
    "        oids.append(data['oid'])\n",
    "        tags.append(data['tags'])\n",
    "\n",
    "    targets = [] # 1-artefact,  0-transient\n",
    "    for tag_list in tags:\n",
    "        if 'artefact' in tag_list:\n",
    "            targets.append(1)\n",
    "        else:\n",
    "            targets.append(0)\n",
    "    \n",
    "    return oids, targets"
   ]
  },
  {
   "cell_type": "code",
   "execution_count": 4,
   "id": "2a712ca8-f26c-45fd-9d2d-0486cf2e0fb7",
   "metadata": {},
   "outputs": [],
   "source": [
    "oids, labels = get_oids('akb.ztf.snad.space.json')"
   ]
  },
  {
   "cell_type": "markdown",
   "id": "0cdccc06-f783-4bb5-b4c0-0de24a72b442",
   "metadata": {},
   "source": [
    "## Download available feature files"
   ]
  },
  {
   "cell_type": "code",
   "execution_count": 5,
   "id": "ebb8708f-fcc3-4796-975e-81c51970b120",
   "metadata": {},
   "outputs": [],
   "source": [
    "dwn_feature = os.listdir('akb_features')\n",
    "for oid, label in zip(oids, labels):\n",
    "    if str(oid)[0] == '1':\n",
    "        field = str(oid)[:4]\n",
    "    else:\n",
    "        field = str(oid)[:3]\n",
    "\n",
    "    file_types = zip(['feature', 'feature', 'oid'], ['dat', 'name', 'dat'])\n",
    "    for file_type in file_types:\n",
    "        if f'{file_type[0]}_{field}.{file_type[1]}' not in dwn_feature:\n",
    "            url = f'https://sai.snad.space/tmp/features/{file_type[0]}_{field}.{file_type[1]}'\n",
    "            with requests.get(url) as response:\n",
    "                response.raise_for_status()\n",
    "                open(f'akb_features/{file_type[0]}_{field}.{file_type[1]}', 'wb').write(response.content)\n"
   ]
  },
  {
   "cell_type": "markdown",
   "id": "df78bff2-8c70-4e6a-98ab-793d5b52fa52",
   "metadata": {},
   "source": [
    "## Construct dataset from downloaded files"
   ]
  },
  {
   "cell_type": "code",
   "execution_count": 8,
   "id": "83d693ea-3eea-4372-8667-7e0cc9a17edd",
   "metadata": {},
   "outputs": [
    {
     "name": "stderr",
     "output_type": "stream",
     "text": [
      "2813it [47:38,  1.02s/it]\n"
     ]
    }
   ],
   "source": [
    "data = {'oids':[], 'labels':[], 'features':[]}\n",
    "for i, oid in tqdm(enumerate(oids)):\n",
    "    if str(oid)[0] != 1:\n",
    "        field = str(oid)[:3]\n",
    "    else:\n",
    "        field = str(oid)[:4]\n",
    "    \n",
    "    try:\n",
    "        field_oids = np.memmap(f'akb_features/oid_{field}.dat', mode='r', dtype=np.uint64)\n",
    "        ind = list(field_oids).index(oid)\n",
    "            \n",
    "        with open(f'akb_features/feature_{field}.name') as f:\n",
    "            names = f.read().split()\n",
    "        dtype = [(name, np.float32) for name in names]\n",
    "        field_feature = np.memmap(f'akb_features/feature_{field}.dat', mode='r', dtype=dtype, shape=field_oids.shape)\n",
    "            \n",
    "        data['oids'].append(oid)\n",
    "        data['features'].append(field_feature[ind].tolist())\n",
    "        data['labels'].append(labels[i])\n",
    "    except:\n",
    "        continue"
   ]
  },
  {
   "cell_type": "markdown",
   "id": "a78e9e78-eafd-4a7a-8536-3df18c469451",
   "metadata": {},
   "source": [
    "## Save constructed dataset"
   ]
  },
  {
   "cell_type": "code",
   "execution_count": 9,
   "id": "41eb99b3-8a2e-413e-98ea-189aade98ae7",
   "metadata": {},
   "outputs": [],
   "source": [
    "np.save('feature_dataset_latest.npy', data)"
   ]
  },
  {
   "cell_type": "code",
   "execution_count": 12,
   "id": "c398f225-f6c3-42ca-b78b-1fa9965cf878",
   "metadata": {},
   "outputs": [
    {
     "data": {
      "text/plain": [
       "2091"
      ]
     },
     "execution_count": 12,
     "metadata": {},
     "output_type": "execute_result"
    }
   ],
   "source": [
    "len(data['oids'])"
   ]
  },
  {
   "cell_type": "code",
   "execution_count": null,
   "id": "83f5553d-c863-4a97-9178-aa089aca9049",
   "metadata": {},
   "outputs": [],
   "source": []
  }
 ],
 "metadata": {
  "kernelspec": {
   "display_name": "rb-ztf",
   "language": "python",
   "name": "rb-ztf"
  },
  "language_info": {
   "codemirror_mode": {
    "name": "ipython",
    "version": 3
   },
   "file_extension": ".py",
   "mimetype": "text/x-python",
   "name": "python",
   "nbconvert_exporter": "python",
   "pygments_lexer": "ipython3",
   "version": "3.8.0"
  }
 },
 "nbformat": 4,
 "nbformat_minor": 5
}
