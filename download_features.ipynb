{
 "cells": [
  {
   "cell_type": "code",
   "execution_count": 2,
   "id": "fb6157c2-886d-471a-902e-55740f9cbee1",
   "metadata": {},
   "outputs": [],
   "source": [
    "import os\n",
    "import numpy as np\n",
    "import json\n",
    "import requests"
   ]
  },
  {
   "cell_type": "code",
   "execution_count": 2,
   "id": "96740153-7f37-4078-9a09-720678e04ba2",
   "metadata": {},
   "outputs": [],
   "source": [
    "def check_if_r(oid):\n",
    "    bands = {'1':'g', '2':'r', '3':'i'}\n",
    "    str_oid = str(oid)\n",
    "    if len(str_oid) != 15:\n",
    "        return True if bands[str_oid[4]]=='r' else False\n",
    "\n",
    "    else:\n",
    "        return True if bands[str_oid[3]]=='r' else False\n",
    "\n",
    "\n",
    "def get_only_r_oids(filepath):\n",
    "    file = open(filepath)\n",
    "    obj_list = json.load(file)\n",
    "    file.close()\n",
    "\n",
    "    oids = []\n",
    "    tags = []\n",
    "    for data in obj_list:\n",
    "        if check_if_r(data['oid']):\n",
    "            oids.append(data['oid'])\n",
    "            tags.append(data['tags'])\n",
    "\n",
    "    targets = [] # 1-artefact,  0-transient\n",
    "    for tag_list in tags:\n",
    "        if 'artefact' in tag_list:\n",
    "            targets.append(1)\n",
    "        else:\n",
    "            targets.append(0)\n",
    "    \n",
    "    return oids, targets\n",
    "\n",
    "oids, labels = get_only_r_oids('akb.ztf.snad.space.json')"
   ]
  },
  {
   "cell_type": "code",
   "execution_count": null,
   "id": "ebb8708f-fcc3-4796-975e-81c51970b120",
   "metadata": {},
   "outputs": [],
   "source": [
    "for oid, label in zip(oids[1644:], labels[1644:]):\n",
    "    if str(oid)[0] == '1':\n",
    "        field = str(oid)[:4]\n",
    "    else:\n",
    "        field = str(oid)[:3]\n",
    "\n",
    "    file_types = zip(['feature', 'feature', 'oid'], ['dat', 'name', 'dat'])\n",
    "    for file_type in file_types:\n",
    "        url = f'https://sai.snad.space/tmp/features/{file_type[0]}_{field}.{file_type[1]}'\n",
    "        with requests.get(url) as response:\n",
    "            response.raise_for_status()\n",
    "            open(f'akb_features/{file_type[0]}_{field}.{file_type[1]}', 'wb').write(response.content)\n"
   ]
  },
  {
   "cell_type": "code",
   "execution_count": null,
   "id": "83d693ea-3eea-4372-8667-7e0cc9a17edd",
   "metadata": {},
   "outputs": [],
   "source": []
  }
 ],
 "metadata": {
  "kernelspec": {
   "display_name": "rb-ztf",
   "language": "python",
   "name": "rb-ztf"
  },
  "language_info": {
   "codemirror_mode": {
    "name": "ipython",
    "version": 3
   },
   "file_extension": ".py",
   "mimetype": "text/x-python",
   "name": "python",
   "nbconvert_exporter": "python",
   "pygments_lexer": "ipython3",
   "version": "3.8.0"
  }
 },
 "nbformat": 4,
 "nbformat_minor": 5
}
